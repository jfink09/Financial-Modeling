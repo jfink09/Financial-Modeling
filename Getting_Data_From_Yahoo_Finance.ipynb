{
  "nbformat": 4,
  "nbformat_minor": 0,
  "metadata": {
    "colab": {
      "name": "Getting_Data_From_Yahoo_Finance.ipynb",
      "provenance": [],
      "collapsed_sections": [],
      "authorship_tag": "ABX9TyMGeS539STtCIHJDEqCCcP/",
      "include_colab_link": true
    },
    "kernelspec": {
      "name": "python3",
      "display_name": "Python 3"
    }
  },
  "cells": [
    {
      "cell_type": "markdown",
      "metadata": {
        "id": "view-in-github",
        "colab_type": "text"
      },
      "source": [
        "<a href=\"https://colab.research.google.com/github/jfink09/Financial-Modeling/blob/Financial-Data-and-Preprocessing/Getting_Data_From_Yahoo_Finance.ipynb\" target=\"_parent\"><img src=\"https://colab.research.google.com/assets/colab-badge.svg\" alt=\"Open In Colab\"/></a>"
      ]
    },
    {
      "cell_type": "code",
      "metadata": {
        "id": "wJ1mfQuOkW4E",
        "colab_type": "code",
        "colab": {}
      },
      "source": [
        "# Retrieve stock data from Yahoo Finance \n",
        "\n",
        "# Set up plots\n",
        "%matplotlib inline\n",
        "%config InclineBackend.figure_format = 'retina'\n",
        "import matplotlib.pyplot as plt \n",
        "import warnings\n",
        "\n",
        "plt.style.use('seaborn')\n",
        "plt.rcParams['figure.figsize'] = [16, 9]\n",
        "plt.rcParams['figure.dpi'] = 300\n",
        "warnings.simplefilter(action='ignore', category=FutureWarning)\n"
      ],
      "execution_count": 0,
      "outputs": []
    },
    {
      "cell_type": "code",
      "metadata": {
        "id": "-S-e7AinylNm",
        "colab_type": "code",
        "colab": {
          "base_uri": "https://localhost:8080/",
          "height": 230
        },
        "outputId": "1f95d467-ebdd-491f-b34f-c0209ad5dbf9"
      },
      "source": [
        "# Install the current (updated) version of yfinance \n",
        "!pip install --upgrade yfinance "
      ],
      "execution_count": 11,
      "outputs": [
        {
          "output_type": "stream",
          "text": [
            "Requirement already up-to-date: yfinance in /usr/local/lib/python3.6/dist-packages (0.1.54)\n",
            "Requirement already satisfied, skipping upgrade: pandas>=0.24 in /usr/local/lib/python3.6/dist-packages (from yfinance) (1.0.3)\n",
            "Requirement already satisfied, skipping upgrade: numpy>=1.15 in /usr/local/lib/python3.6/dist-packages (from yfinance) (1.18.4)\n",
            "Requirement already satisfied, skipping upgrade: multitasking>=0.0.7 in /usr/local/lib/python3.6/dist-packages (from yfinance) (0.0.9)\n",
            "Requirement already satisfied, skipping upgrade: requests>=2.20 in /usr/local/lib/python3.6/dist-packages (from yfinance) (2.23.0)\n",
            "Requirement already satisfied, skipping upgrade: python-dateutil>=2.6.1 in /usr/local/lib/python3.6/dist-packages (from pandas>=0.24->yfinance) (2.8.1)\n",
            "Requirement already satisfied, skipping upgrade: pytz>=2017.2 in /usr/local/lib/python3.6/dist-packages (from pandas>=0.24->yfinance) (2018.9)\n",
            "Requirement already satisfied, skipping upgrade: urllib3!=1.25.0,!=1.25.1,<1.26,>=1.21.1 in /usr/local/lib/python3.6/dist-packages (from requests>=2.20->yfinance) (1.24.3)\n",
            "Requirement already satisfied, skipping upgrade: chardet<4,>=3.0.2 in /usr/local/lib/python3.6/dist-packages (from requests>=2.20->yfinance) (3.0.4)\n",
            "Requirement already satisfied, skipping upgrade: idna<3,>=2.5 in /usr/local/lib/python3.6/dist-packages (from requests>=2.20->yfinance) (2.9)\n",
            "Requirement already satisfied, skipping upgrade: certifi>=2017.4.17 in /usr/local/lib/python3.6/dist-packages (from requests>=2.20->yfinance) (2020.4.5.1)\n",
            "Requirement already satisfied, skipping upgrade: six>=1.5 in /usr/local/lib/python3.6/dist-packages (from python-dateutil>=2.6.1->pandas>=0.24->yfinance) (1.12.0)\n"
          ],
          "name": "stdout"
        }
      ]
    },
    {
      "cell_type": "code",
      "metadata": {
        "id": "ObHKoO16rRQ7",
        "colab_type": "code",
        "colab": {}
      },
      "source": [
        "# Import libraries\n",
        "import pandas as pd\n",
        "import yfinance as yf"
      ],
      "execution_count": 0,
      "outputs": []
    },
    {
      "cell_type": "code",
      "metadata": {
        "id": "8dDbLMJer9ox",
        "colab_type": "code",
        "outputId": "59e70e43-85f8-40e2-c2b9-1e0fa419fa1d",
        "colab": {
          "base_uri": "https://localhost:8080/",
          "height": 436
        }
      },
      "source": [
        "# Download the data \n",
        "AAPL = yf.download('AAPL', start='2019-01-01', end=None, progress=False)\n",
        "\n",
        "# Display the stock data in a table\n",
        "# Default data is (Date, Open, High, Low, Close, Adj Colse, Volume)\n",
        "AAPL"
      ],
      "execution_count": 13,
      "outputs": [
        {
          "output_type": "execute_result",
          "data": {
            "text/html": [
              "<div>\n",
              "<style scoped>\n",
              "    .dataframe tbody tr th:only-of-type {\n",
              "        vertical-align: middle;\n",
              "    }\n",
              "\n",
              "    .dataframe tbody tr th {\n",
              "        vertical-align: top;\n",
              "    }\n",
              "\n",
              "    .dataframe thead th {\n",
              "        text-align: right;\n",
              "    }\n",
              "</style>\n",
              "<table border=\"1\" class=\"dataframe\">\n",
              "  <thead>\n",
              "    <tr style=\"text-align: right;\">\n",
              "      <th></th>\n",
              "      <th>Open</th>\n",
              "      <th>High</th>\n",
              "      <th>Low</th>\n",
              "      <th>Close</th>\n",
              "      <th>Adj Close</th>\n",
              "      <th>Volume</th>\n",
              "    </tr>\n",
              "    <tr>\n",
              "      <th>Date</th>\n",
              "      <th></th>\n",
              "      <th></th>\n",
              "      <th></th>\n",
              "      <th></th>\n",
              "      <th></th>\n",
              "      <th></th>\n",
              "    </tr>\n",
              "  </thead>\n",
              "  <tbody>\n",
              "    <tr>\n",
              "      <th>2019-01-02</th>\n",
              "      <td>154.889999</td>\n",
              "      <td>158.850006</td>\n",
              "      <td>154.229996</td>\n",
              "      <td>157.919998</td>\n",
              "      <td>155.214005</td>\n",
              "      <td>37039700</td>\n",
              "    </tr>\n",
              "    <tr>\n",
              "      <th>2019-01-03</th>\n",
              "      <td>143.979996</td>\n",
              "      <td>145.720001</td>\n",
              "      <td>142.000000</td>\n",
              "      <td>142.190002</td>\n",
              "      <td>139.753540</td>\n",
              "      <td>91312200</td>\n",
              "    </tr>\n",
              "    <tr>\n",
              "      <th>2019-01-04</th>\n",
              "      <td>144.529999</td>\n",
              "      <td>148.550003</td>\n",
              "      <td>143.800003</td>\n",
              "      <td>148.259995</td>\n",
              "      <td>145.719513</td>\n",
              "      <td>58607100</td>\n",
              "    </tr>\n",
              "    <tr>\n",
              "      <th>2019-01-07</th>\n",
              "      <td>148.699997</td>\n",
              "      <td>148.830002</td>\n",
              "      <td>145.899994</td>\n",
              "      <td>147.929993</td>\n",
              "      <td>145.395203</td>\n",
              "      <td>54777800</td>\n",
              "    </tr>\n",
              "    <tr>\n",
              "      <th>2019-01-08</th>\n",
              "      <td>149.559998</td>\n",
              "      <td>151.820007</td>\n",
              "      <td>148.520004</td>\n",
              "      <td>150.750000</td>\n",
              "      <td>148.166870</td>\n",
              "      <td>41025300</td>\n",
              "    </tr>\n",
              "    <tr>\n",
              "      <th>...</th>\n",
              "      <td>...</td>\n",
              "      <td>...</td>\n",
              "      <td>...</td>\n",
              "      <td>...</td>\n",
              "      <td>...</td>\n",
              "      <td>...</td>\n",
              "    </tr>\n",
              "    <tr>\n",
              "      <th>2020-05-04</th>\n",
              "      <td>289.170013</td>\n",
              "      <td>293.690002</td>\n",
              "      <td>286.320007</td>\n",
              "      <td>293.160004</td>\n",
              "      <td>293.160004</td>\n",
              "      <td>33392000</td>\n",
              "    </tr>\n",
              "    <tr>\n",
              "      <th>2020-05-05</th>\n",
              "      <td>295.059998</td>\n",
              "      <td>301.000000</td>\n",
              "      <td>294.459991</td>\n",
              "      <td>297.559998</td>\n",
              "      <td>297.559998</td>\n",
              "      <td>36937800</td>\n",
              "    </tr>\n",
              "    <tr>\n",
              "      <th>2020-05-06</th>\n",
              "      <td>300.459991</td>\n",
              "      <td>303.239990</td>\n",
              "      <td>298.869995</td>\n",
              "      <td>300.630005</td>\n",
              "      <td>300.630005</td>\n",
              "      <td>35583400</td>\n",
              "    </tr>\n",
              "    <tr>\n",
              "      <th>2020-05-07</th>\n",
              "      <td>303.220001</td>\n",
              "      <td>305.170013</td>\n",
              "      <td>301.970001</td>\n",
              "      <td>303.739990</td>\n",
              "      <td>303.739990</td>\n",
              "      <td>28690300</td>\n",
              "    </tr>\n",
              "    <tr>\n",
              "      <th>2020-05-08</th>\n",
              "      <td>305.640015</td>\n",
              "      <td>310.290009</td>\n",
              "      <td>304.290009</td>\n",
              "      <td>309.929993</td>\n",
              "      <td>309.929993</td>\n",
              "      <td>27904535</td>\n",
              "    </tr>\n",
              "  </tbody>\n",
              "</table>\n",
              "<p>341 rows × 6 columns</p>\n",
              "</div>"
            ],
            "text/plain": [
              "                  Open        High  ...   Adj Close    Volume\n",
              "Date                                ...                      \n",
              "2019-01-02  154.889999  158.850006  ...  155.214005  37039700\n",
              "2019-01-03  143.979996  145.720001  ...  139.753540  91312200\n",
              "2019-01-04  144.529999  148.550003  ...  145.719513  58607100\n",
              "2019-01-07  148.699997  148.830002  ...  145.395203  54777800\n",
              "2019-01-08  149.559998  151.820007  ...  148.166870  41025300\n",
              "...                ...         ...  ...         ...       ...\n",
              "2020-05-04  289.170013  293.690002  ...  293.160004  33392000\n",
              "2020-05-05  295.059998  301.000000  ...  297.559998  36937800\n",
              "2020-05-06  300.459991  303.239990  ...  300.630005  35583400\n",
              "2020-05-07  303.220001  305.170013  ...  303.739990  28690300\n",
              "2020-05-08  305.640015  310.290009  ...  309.929993  27904535\n",
              "\n",
              "[341 rows x 6 columns]"
            ]
          },
          "metadata": {
            "tags": []
          },
          "execution_count": 13
        }
      ]
    }
  ]
}