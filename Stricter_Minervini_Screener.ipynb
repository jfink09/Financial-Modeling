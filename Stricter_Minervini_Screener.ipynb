{
  "nbformat": 4,
  "nbformat_minor": 0,
  "metadata": {
    "colab": {
      "name": "Stricter_Minervini_Screener.ipynb",
      "provenance": [],
      "authorship_tag": "ABX9TyO56yCblr+NRZjXSVXAAyYa",
      "include_colab_link": true
    },
    "kernelspec": {
      "name": "python3",
      "display_name": "Python 3"
    },
    "language_info": {
      "name": "python"
    }
  },
  "cells": [
    {
      "cell_type": "markdown",
      "metadata": {
        "id": "view-in-github",
        "colab_type": "text"
      },
      "source": [
        "<a href=\"https://colab.research.google.com/github/jfink09/Financial-Modeling/blob/Screeners-and-Backtests/Stricter_Minervini_Screener.ipynb\" target=\"_parent\"><img src=\"https://colab.research.google.com/assets/colab-badge.svg\" alt=\"Open In Colab\"/></a>"
      ]
    },
    {
      "cell_type": "code",
      "metadata": {
        "id": "_9wsTBj0f6T8"
      },
      "source": [
        "# Import libraries\n",
        "import datetime as dt\n",
        "import pandas as pd\n",
        "from pandas_datareader import data as pdr\n",
        "import tkinter as Tk\n",
        "#from tkinter.filedialog import askopenfilenam"
      ],
      "execution_count": null,
      "outputs": []
    },
    {
      "cell_type": "code",
      "metadata": {
        "id": "RO9qroptf-JC"
      },
      "source": [
        "# Install Yahoo Finance's library\n",
        "!pip install yfinance"
      ],
      "execution_count": null,
      "outputs": []
    },
    {
      "cell_type": "code",
      "metadata": {
        "id": "N3QWwszvgAJw"
      },
      "source": [
        "import yfinance as yf"
      ],
      "execution_count": null,
      "outputs": []
    },
    {
      "cell_type": "code",
      "metadata": {
        "id": "NE3FgL1ggCpQ"
      },
      "source": [
        "# Initialize starting and ending timeframe\n",
        "yf.pdr_override()\n",
        "start = dt.datetime(2019,1,1)\n",
        "now = dt.datetime.now()"
      ],
      "execution_count": null,
      "outputs": []
    },
    {
      "cell_type": "code",
      "metadata": {
        "colab": {
          "resources": {
            "http://localhost:8080/nbextensions/google.colab/files.js": {
              "data": "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",
              "ok": true,
              "headers": [
                [
                  "content-type",
                  "application/javascript"
                ]
              ],
              "status": 200,
              "status_text": ""
            }
          },
          "base_uri": "https://localhost:8080/",
          "height": 72
        },
        "id": "KJSe1lutgE01",
        "outputId": "2dc302a8-dc9f-4c95-a6cd-7c7ba2bf4540"
      },
      "source": [
        "# Import Excel file containing every public company's ticker symbol\n",
        "from google.colab import files\n",
        "uploaded = files.upload()"
      ],
      "execution_count": null,
      "outputs": [
        {
          "output_type": "display_data",
          "data": {
            "text/html": [
              "\n",
              "     <input type=\"file\" id=\"files-360af19c-fa4b-4cab-916e-97a2e45dd1d3\" name=\"files[]\" multiple disabled\n",
              "        style=\"border:none\" />\n",
              "     <output id=\"result-360af19c-fa4b-4cab-916e-97a2e45dd1d3\">\n",
              "      Upload widget is only available when the cell has been executed in the\n",
              "      current browser session. Please rerun this cell to enable.\n",
              "      </output>\n",
              "      <script src=\"/nbextensions/google.colab/files.js\"></script> "
            ],
            "text/plain": [
              "<IPython.core.display.HTML object>"
            ]
          },
          "metadata": {}
        },
        {
          "output_type": "stream",
          "name": "stdout",
          "text": [
            "Saving allstocks.xlsx to allstocks.xlsx\n"
          ]
        }
      ]
    },
    {
      "cell_type": "code",
      "metadata": {
        "id": "5bgqCrhSgLeh"
      },
      "source": [
        "# Read the Excel file\n",
        "stocklist = pd.read_excel('allstocks.xlsx')"
      ],
      "execution_count": null,
      "outputs": []
    },
    {
      "cell_type": "code",
      "metadata": {
        "id": "TQVxRCJmgN0w"
      },
      "source": [
        "Price = stocklist['Price']\n",
        "RS_rating = stocklist['RS Rating']\n",
        "Volume = stocklist['Vol. (1000s)']"
      ],
      "execution_count": null,
      "outputs": []
    },
    {
      "cell_type": "code",
      "metadata": {
        "colab": {
          "base_uri": "https://localhost:8080/",
          "height": 504
        },
        "id": "G6ZLDY69gP0z",
        "outputId": "c5acf72e-dbea-4857-9499-b6b9c87ecff3"
      },
      "source": [
        "Price_over_15 = stocklist[Price > 15]\n",
        "stocklist = Price_over_15\n",
        "\n",
        "RS_rating_over_70 = stocklist[RS_rating > 70]\n",
        "stocklist = RS_rating_over_70\n",
        "\n",
        "Volume_over_400k = stocklist[Volume > 400]\n",
        "stocklist = Volume_over_400k\n",
        "\n",
        "Volume_over_400k"
      ],
      "execution_count": null,
      "outputs": [
        {
          "output_type": "stream",
          "name": "stderr",
          "text": [
            "/usr/local/lib/python3.7/dist-packages/ipykernel_launcher.py:4: UserWarning: Boolean Series key will be reindexed to match DataFrame index.\n",
            "  after removing the cwd from sys.path.\n",
            "/usr/local/lib/python3.7/dist-packages/ipykernel_launcher.py:7: UserWarning: Boolean Series key will be reindexed to match DataFrame index.\n",
            "  import sys\n"
          ]
        },
        {
          "output_type": "execute_result",
          "data": {
            "text/html": [
              "<div>\n",
              "<style scoped>\n",
              "    .dataframe tbody tr th:only-of-type {\n",
              "        vertical-align: middle;\n",
              "    }\n",
              "\n",
              "    .dataframe tbody tr th {\n",
              "        vertical-align: top;\n",
              "    }\n",
              "\n",
              "    .dataframe thead th {\n",
              "        text-align: right;\n",
              "    }\n",
              "</style>\n",
              "<table border=\"1\" class=\"dataframe\">\n",
              "  <thead>\n",
              "    <tr style=\"text-align: right;\">\n",
              "      <th></th>\n",
              "      <th>Symbol</th>\n",
              "      <th>Price</th>\n",
              "      <th>Price $ Change</th>\n",
              "      <th>Price % Change</th>\n",
              "      <th>Comp. Rating</th>\n",
              "      <th>EPS Rating</th>\n",
              "      <th>RS Rating</th>\n",
              "      <th>Ind Grp RS</th>\n",
              "      <th>SMR Rating</th>\n",
              "      <th>Acc/Dis Rating</th>\n",
              "      <th>Spon Rating</th>\n",
              "      <th>Vol. % Change</th>\n",
              "      <th>Vol. (1000s)</th>\n",
              "    </tr>\n",
              "  </thead>\n",
              "  <tbody>\n",
              "    <tr>\n",
              "      <th>2</th>\n",
              "      <td>AMBA</td>\n",
              "      <td>154.14</td>\n",
              "      <td>-4.51</td>\n",
              "      <td>-2.84</td>\n",
              "      <td>99.0</td>\n",
              "      <td>61.0</td>\n",
              "      <td>97.0</td>\n",
              "      <td>A+</td>\n",
              "      <td>C</td>\n",
              "      <td>A+</td>\n",
              "      <td>C</td>\n",
              "      <td>-22.0</td>\n",
              "      <td>519</td>\n",
              "    </tr>\n",
              "    <tr>\n",
              "      <th>3</th>\n",
              "      <td>AMD</td>\n",
              "      <td>105.06</td>\n",
              "      <td>-1.39</td>\n",
              "      <td>-1.31</td>\n",
              "      <td>99.0</td>\n",
              "      <td>99.0</td>\n",
              "      <td>80.0</td>\n",
              "      <td>A+</td>\n",
              "      <td>A</td>\n",
              "      <td>C+</td>\n",
              "      <td>B</td>\n",
              "      <td>-52.0</td>\n",
              "      <td>30623</td>\n",
              "    </tr>\n",
              "    <tr>\n",
              "      <th>5</th>\n",
              "      <td>ARES</td>\n",
              "      <td>77.73</td>\n",
              "      <td>0.50</td>\n",
              "      <td>0.65</td>\n",
              "      <td>99.0</td>\n",
              "      <td>78.0</td>\n",
              "      <td>93.0</td>\n",
              "      <td>A-</td>\n",
              "      <td>A</td>\n",
              "      <td>B+</td>\n",
              "      <td>B</td>\n",
              "      <td>-35.0</td>\n",
              "      <td>449</td>\n",
              "    </tr>\n",
              "    <tr>\n",
              "      <th>9</th>\n",
              "      <td>CCRN</td>\n",
              "      <td>22.83</td>\n",
              "      <td>0.38</td>\n",
              "      <td>1.69</td>\n",
              "      <td>99.0</td>\n",
              "      <td>64.0</td>\n",
              "      <td>98.0</td>\n",
              "      <td>A+</td>\n",
              "      <td>B</td>\n",
              "      <td>A-</td>\n",
              "      <td>C</td>\n",
              "      <td>112.0</td>\n",
              "      <td>673</td>\n",
              "    </tr>\n",
              "    <tr>\n",
              "      <th>10</th>\n",
              "      <td>CF</td>\n",
              "      <td>61.06</td>\n",
              "      <td>0.40</td>\n",
              "      <td>0.66</td>\n",
              "      <td>99.0</td>\n",
              "      <td>92.0</td>\n",
              "      <td>92.0</td>\n",
              "      <td>B+</td>\n",
              "      <td>C</td>\n",
              "      <td>A+</td>\n",
              "      <td>C</td>\n",
              "      <td>-22.0</td>\n",
              "      <td>2126</td>\n",
              "    </tr>\n",
              "    <tr>\n",
              "      <th>...</th>\n",
              "      <td>...</td>\n",
              "      <td>...</td>\n",
              "      <td>...</td>\n",
              "      <td>...</td>\n",
              "      <td>...</td>\n",
              "      <td>...</td>\n",
              "      <td>...</td>\n",
              "      <td>...</td>\n",
              "      <td>...</td>\n",
              "      <td>...</td>\n",
              "      <td>...</td>\n",
              "      <td>...</td>\n",
              "      <td>...</td>\n",
              "    </tr>\n",
              "    <tr>\n",
              "      <th>9077</th>\n",
              "      <td>XLF</td>\n",
              "      <td>39.02</td>\n",
              "      <td>0.19</td>\n",
              "      <td>0.49</td>\n",
              "      <td>NaN</td>\n",
              "      <td>NaN</td>\n",
              "      <td>82.0</td>\n",
              "      <td>C+</td>\n",
              "      <td>NaN</td>\n",
              "      <td>D+</td>\n",
              "      <td>C</td>\n",
              "      <td>-21.0</td>\n",
              "      <td>38607</td>\n",
              "    </tr>\n",
              "    <tr>\n",
              "      <th>9087</th>\n",
              "      <td>XME</td>\n",
              "      <td>42.45</td>\n",
              "      <td>-0.40</td>\n",
              "      <td>-0.93</td>\n",
              "      <td>NaN</td>\n",
              "      <td>NaN</td>\n",
              "      <td>78.0</td>\n",
              "      <td>C+</td>\n",
              "      <td>NaN</td>\n",
              "      <td>B-</td>\n",
              "      <td>E</td>\n",
              "      <td>-13.0</td>\n",
              "      <td>3953</td>\n",
              "    </tr>\n",
              "    <tr>\n",
              "      <th>9094</th>\n",
              "      <td>XOP</td>\n",
              "      <td>105.37</td>\n",
              "      <td>2.58</td>\n",
              "      <td>2.51</td>\n",
              "      <td>NaN</td>\n",
              "      <td>NaN</td>\n",
              "      <td>94.0</td>\n",
              "      <td>C+</td>\n",
              "      <td>NaN</td>\n",
              "      <td>C+</td>\n",
              "      <td>E</td>\n",
              "      <td>4.0</td>\n",
              "      <td>8172</td>\n",
              "    </tr>\n",
              "    <tr>\n",
              "      <th>9101</th>\n",
              "      <td>XRT</td>\n",
              "      <td>90.84</td>\n",
              "      <td>-0.75</td>\n",
              "      <td>-0.82</td>\n",
              "      <td>NaN</td>\n",
              "      <td>NaN</td>\n",
              "      <td>78.0</td>\n",
              "      <td>C+</td>\n",
              "      <td>NaN</td>\n",
              "      <td>D-</td>\n",
              "      <td>C</td>\n",
              "      <td>-43.0</td>\n",
              "      <td>1575</td>\n",
              "    </tr>\n",
              "    <tr>\n",
              "      <th>9122</th>\n",
              "      <td>YANG</td>\n",
              "      <td>17.62</td>\n",
              "      <td>-0.46</td>\n",
              "      <td>-2.54</td>\n",
              "      <td>NaN</td>\n",
              "      <td>NaN</td>\n",
              "      <td>74.0</td>\n",
              "      <td>C+</td>\n",
              "      <td>NaN</td>\n",
              "      <td>B-</td>\n",
              "      <td>NaN</td>\n",
              "      <td>-22.0</td>\n",
              "      <td>896</td>\n",
              "    </tr>\n",
              "  </tbody>\n",
              "</table>\n",
              "<p>671 rows × 13 columns</p>\n",
              "</div>"
            ],
            "text/plain": [
              "     Symbol   Price  Price $ Change  ...  Spon Rating  Vol. % Change  Vol. (1000s)\n",
              "2      AMBA  154.14           -4.51  ...            C          -22.0           519\n",
              "3       AMD  105.06           -1.39  ...            B          -52.0         30623\n",
              "5      ARES   77.73            0.50  ...            B          -35.0           449\n",
              "9      CCRN   22.83            0.38  ...            C          112.0           673\n",
              "10       CF   61.06            0.40  ...            C          -22.0          2126\n",
              "...     ...     ...             ...  ...          ...            ...           ...\n",
              "9077    XLF   39.02            0.19  ...            C          -21.0         38607\n",
              "9087    XME   42.45           -0.40  ...            E          -13.0          3953\n",
              "9094    XOP  105.37            2.58  ...            E            4.0          8172\n",
              "9101    XRT   90.84           -0.75  ...            C          -43.0          1575\n",
              "9122   YANG   17.62           -0.46  ...          NaN          -22.0           896\n",
              "\n",
              "[671 rows x 13 columns]"
            ]
          },
          "metadata": {},
          "execution_count": 8
        }
      ]
    },
    {
      "cell_type": "code",
      "metadata": {
        "id": "q8j45hvLhDdr"
      },
      "source": [
        "# Create a list to add specific data\n",
        "technical_list = pd.DataFrame(columns=['Stock', \"RS_Rating\", \"50 Day MA\", \"150 Day Ma\", \"200 Day MA\", \"52 Week Low\", \"52 week High\", \"21 Day EMA\"])"
      ],
      "execution_count": null,
      "outputs": []
    },
    {
      "cell_type": "code",
      "metadata": {
        "id": "VKN5pIa5hPTi"
      },
      "source": [
        "for i in stocklist.index:\n",
        "\n",
        "  stock = str(stocklist['Symbol'][i])\n",
        "  RS_rating = stocklist['RS Rating'][i]\n",
        "\n",
        "  try:\n",
        "\n",
        "    df = pdr.get_data_yahoo(stock, start, now)\n",
        "\n",
        "    #print(\"Checking \"+stock+\"...\")\n",
        "\n",
        "  except Exception:\n",
        "\n",
        "      print(\"No data on \"+stock)"
      ],
      "execution_count": null,
      "outputs": []
    },
    {
      "cell_type": "code",
      "metadata": {
        "id": "4lQ5DgVxhYnD"
      },
      "source": [
        "# Array of each SMA used \n",
        "\n",
        "sma = [50, 150, 200]\n",
        "\n",
        "for x in sma:\n",
        "\n",
        "  sma = x\n",
        "\n",
        "  # Calculate the three SMAs\n",
        "  df[\"SMA_\"+str(sma)] = round(df.iloc[:,4].rolling(window=sma).mean(),2)\n",
        "\n",
        "\n",
        "# Get most recent data from Yahoo Finance\n",
        "\n",
        "currentClose = df['Adj Close'][-1]\n",
        "moving_average_50 = df['SMA_50'][-1]\n",
        "moving_average_150 = df['SMA_150'][-1]\n",
        "moving_average_200 = df['SMA_200'][-1]\n",
        "week_low_52 = min(df['Adj Close'][-260:])\n",
        "week_high_52 = max(df['Adj Close'][-260:])\n",
        "\n",
        "try:\n",
        "\n",
        "  # Get 200SMA moving in an uptrend for a month\n",
        "  moving_average_200_20past = df['SMA_200'][-20]\n",
        "\n",
        "except Exception:\n",
        "\n",
        "  moving_average_200_20past = 0"
      ],
      "execution_count": null,
      "outputs": []
    },
    {
      "cell_type": "code",
      "metadata": {
        "colab": {
          "base_uri": "https://localhost:8080/"
        },
        "id": "qxldxb0Xhe4P",
        "outputId": "636df1e6-839b-478d-b22e-cd36115b2eeb"
      },
      "source": [
        "# Current price over 150sma over 200sma\n",
        "\n",
        "if(currentClose > moving_average_150 and currentClose > moving_average_200):\n",
        "  condition_1 = True\n",
        "\n",
        "else:\n",
        "  condition_1 = False\n",
        "\n",
        "\n",
        "# 150sma over 200sma\n",
        "\n",
        "if(moving_average_150 > moving_average_200):\n",
        "  condition_2 = True\n",
        "\n",
        "else:\n",
        "  condition_2 = False\n",
        "\n",
        "\n",
        "# 200sma in uptrend for more than 1 month\n",
        "\n",
        "if(moving_average_200 > moving_average_200_20past):\n",
        "  condition_3 = True\n",
        "\n",
        "else:\n",
        "  condition_3 = False\n",
        "\n",
        "\n",
        "# 50sma over 150sma and 50sma over 200sma\n",
        "\n",
        "if(moving_average_50 > moving_average_150 and moving_average_50 > moving_average_200):\n",
        "  condition_4 = True\n",
        "\n",
        "else:\n",
        "  condition_4 = False\n",
        "\n",
        "\n",
        "# Current price over 50sma\n",
        "\n",
        "if(currentClose > moving_average_50):\n",
        "  condition_5 = True\n",
        "\n",
        "else: \n",
        "  condition_5 = False\n",
        "\n",
        "\n",
        "# Current price is 30% higher than the 52-week low\n",
        "\n",
        "if(currentClose > (1.3*week_low_52)):\n",
        "  condition_6 = True\n",
        "\n",
        "else: \n",
        "  condition_6 = False\n",
        "\n",
        "\n",
        "# Current price is within 25% from its 52-week high\n",
        "\n",
        "if(currentClose >= (0.75*week_high_52)):\n",
        "  condition_7 = True\n",
        "\n",
        "else: \n",
        "  condition_7 = False\n",
        "\n",
        "\n",
        "# IBD RS rating over 70\n",
        "\n",
        "if(RS_rating > 70):\n",
        "  condition_8 = True\n",
        "\n",
        "else: \n",
        "  condition_8 = False\n",
        "\n",
        "if(currentClose > moving_average_21):\n",
        "  condition_9 = True\n",
        "\n",
        "else:\n",
        "  condition_9 = False\n",
        "\n",
        "\n",
        "# If each condition is met, create a list of the stocks that meet all criteria\n",
        "\n",
        "if(condition_1 and condition_2 and condition_3 and condition_4 and condition_5 and condition_6 and condition_7 and condition_8):\n",
        "  technical_list = technical_list.append({'Stock': stock, \"RS_Rating\": RS_rating, \"50 Day MA\": moving_average_50, \"150 Day Ma\": moving_average_150, \n",
        "                                  \"200 Day MA\": moving_average_200, \"52 Week Low\": week_low_52, \"52 week High\": week_high_52}, ignore_index=True)\n",
        "\n",
        "\n",
        "print(technical_list)"
      ],
      "execution_count": null,
      "outputs": [
        {
          "output_type": "stream",
          "name": "stdout",
          "text": [
            "Empty DataFrame\n",
            "Columns: [Stock, RS_Rating, 50 Day MA, 150 Day Ma, 200 Day MA, 52 Week Low, 52 week High, 21 Day EMA]\n",
            "Index: []\n"
          ]
        }
      ]
    }
  ]
}